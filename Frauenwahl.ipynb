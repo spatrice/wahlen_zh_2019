{
 "cells": [
  {
   "cell_type": "markdown",
   "metadata": {},
   "source": [
    "# Frauenwahl\n",
    "Am Tag 1 nach den Kantonsratswahlen mehrten sich die Hinweise, dass sich viele Frauen auf den Listen Plätze gut gemacht haben. Wir versuchten herauszufinden, ob dieser Eindruck stimmt."
   ]
  },
  {
   "cell_type": "code",
   "execution_count": null,
   "metadata": {},
   "outputs": [],
   "source": [
    "#my standard library import\n",
    "import pandas as pd\n",
    "from selenium import webdriver\n",
    "from selenium.webdriver.common.keys import Keys\n",
    "from selenium.webdriver.support.ui import Select\n",
    "from selenium.webdriver.support.ui import WebDriverWait\n",
    "from selenium.webdriver.common.action_chains import ActionChains\n",
    "import requests\n",
    "from bs4 import BeautifulSoup\n",
    "import PyPDF2\n",
    "import re\n",
    "import time\n",
    "import matplotlib\n",
    "import matplotlib.pyplot as plt\n",
    "%matplotlib inline\n",
    "from cycler import cycler\n",
    "plt.rcParams.update(\n",
    "    {\"figure.facecolor\": \"#ffffff\",\n",
    "              \"axes.facecolor\": \"#ffffff\",\n",
    "              \"axes.grid\" : True,\n",
    "              \"axes.grid.axis\" : \"y\",\n",
    "              \"grid.color\"    : \"ededed\",\n",
    "              \"grid.linewidth\": 0.8,\n",
    "              \"grid.alpha\": 0.8,\n",
    "              \"axes.spines.left\" : False,\n",
    "              \"axes.spines.right\" : False,\n",
    "              \"axes.spines.top\" : False,\n",
    "              \"axes.spines.bottom\" : False,\n",
    "              \"axes.axisbelow\": False,\n",
    "              \"ytick.major.size\": 0,     \n",
    "              \"ytick.minor.size\": 0,\n",
    "              #\"xtick.direction\" : \"none\",\n",
    "              \"xtick.minor.size\": 0,\n",
    "              \"xtick.major.size\" : 0,\n",
    "              \"xtick.color\"      : \"#191919\",\n",
    "              \"axes.edgecolor\"    :\"#191919\",\n",
    "              \"axes.prop_cycle\" : plt.cycler('color', ['#0c2c84', '#c7e9b4', \n",
    "                                                       '#225ea8','#1d91c0', '#41b6c4', \n",
    "                                                       '#7fcdbb', '#eaea8c']),\n",
    "    'pdf.fonttype': 42,\n",
    "    'ps.fonttype': 42\n",
    "})\n",
    "cycle = plt.rcParams['axes.prop_cycle'].by_key()['color']\n",
    "pd.options.display.max_columns = 200\n",
    "pd.options.display.max_rows = 500\n",
    "\n",
    "import glob\n",
    "import json\n",
    "from requests import get\n",
    "from requests.auth import HTTPBasicAuth\n",
    "\n"
   ]
  },
  {
   "cell_type": "code",
   "execution_count": null,
   "metadata": {},
   "outputs": [],
   "source": [
    "#####Liste Kandidierende\n",
    "####JSON-Files des statistischen Amtes des Kanton Zürich herunterladen\n",
    "url = \"http://www.wahlen.zh.ch/wahlen2019/public/data/krw/kandidaten.json\"\n",
    "d = json.loads(requests.get(url).content)\n",
    "d['kandidaten'][0]"
   ]
  },
  {
   "cell_type": "code",
   "execution_count": null,
   "metadata": {},
   "outputs": [],
   "source": [
    "df = pd.DataFrame(d['kandidaten'])\n",
    "#gewaehlt = df[df['gewaehlt']==1]\n",
    "print(len(df))"
   ]
  },
  {
   "cell_type": "code",
   "execution_count": null,
   "metadata": {},
   "outputs": [],
   "source": [
    "#listenplatz aus kandidatnnummer rauslesen und name erstellen\n",
    "df['listen_platz']= df['kandidaten_nr'].str.extract('\\d\\d*_\\d\\d*(\\d\\d)').astype(int)\n",
    "df['name'] = df['vorname'] + \" \" + df['nachname']"
   ]
  },
  {
   "cell_type": "code",
   "execution_count": null,
   "metadata": {},
   "outputs": [],
   "source": [
    "#kandidierendenliste mit geschlecht einlesen\n",
    "#Geschlecht fehlte im JSON\n",
    "gender = pd.read_csv('KRW19.csv')\n",
    "#gender.columns = ['nachname', 'vorname', 'gender','Plz', 'ListeKurzbez', 'Wahlkurzbezeichnung']\n",
    "len(gender)\n",
    "gender.head()"
   ]
  },
  {
   "cell_type": "code",
   "execution_count": null,
   "metadata": {},
   "outputs": [],
   "source": [
    "#datensätze nach wahlkreis und kandidatennummer sortieren und zusammenfügen\n",
    "gender = gender.sort_values(['Wahlkreis', 'Li-Ka'], ascending=False).reset_index()\n",
    "df['lika'] = df['kandidaten_nr'].astype(str).str.replace('\\d\\d*_','').astype(int)\n",
    "df = df.sort_values(['wahlkreis_bez', 'lika'], ascending=False).reset_index()\n",
    "df = pd.concat([df, gender], axis=1)"
   ]
  },
  {
   "cell_type": "code",
   "execution_count": null,
   "metadata": {},
   "outputs": [],
   "source": [
    "#Ranglisten Gewinne berechnen\n",
    "df['vorwaertsdiff'] = df['listen_platz']-df['rang']\n",
    "df['vorwaerts'] = df['listen_platz']>df['rang']"
   ]
  },
  {
   "cell_type": "code",
   "execution_count": null,
   "metadata": {},
   "outputs": [],
   "source": [
    "df.head()"
   ]
  },
  {
   "cell_type": "code",
   "execution_count": null,
   "metadata": {},
   "outputs": [],
   "source": [
    "df = df[['name','G','listen_code','rang','listen_platz', \n",
    "         'Wahlkreis', 'vorwaerts','vorwaertsdiff', 'gewaehlt', \n",
    "         'bisher', 'jahrgang','stimmentotal']]"
   ]
  },
  {
   "cell_type": "code",
   "execution_count": null,
   "metadata": {},
   "outputs": [],
   "source": [
    "#liste aller frauen exportieren, sortiert nach Differenz\n",
    "frauen = df[df['G']=='W']\n",
    "frauen = frauen.sort_values('vorwaertsdiff', ascending=False)\n",
    "#frauen.to_csv('frauenliste.csv', index=False)\n",
    "#liste aller Männer exportieren – zum Vergleichen\n",
    "men = df[df['G']=='M']\n",
    "men = men.sort_values('vorwaertsdiff', ascending=False)\n",
    "#men.to_csv('maennerliste.csv', index=False)"
   ]
  },
  {
   "cell_type": "code",
   "execution_count": null,
   "metadata": {},
   "outputs": [],
   "source": [
    "#Wie hoch ist der Antiel der Frauen, die Plätze gut gemacht haben?\n",
    "df[df['G']=='W'].vorwaerts.value_counts('normalize')"
   ]
  },
  {
   "cell_type": "code",
   "execution_count": null,
   "metadata": {},
   "outputs": [],
   "source": [
    "#Durchschnittliche Veränderung aller Kandidierenden\n",
    "print('Frauen: '+ str(df[df['G']=='W'].vorwaertsdiff.sum()/len(df[df['G']=='W'])))\n",
    "#im schnitt alle frauen\n",
    "print('Männer: ' + str(df[df['G']=='M'].vorwaertsdiff.sum()/len(df[df['G']=='M'])))"
   ]
  },
  {
   "cell_type": "code",
   "execution_count": null,
   "metadata": {},
   "outputs": [],
   "source": [
    "#Wie hoch ist der Antiel der Männer, die Plätze gut gemacht haben?\n",
    "df[df['G']=='M'].vorwaerts.value_counts('normalize')"
   ]
  },
  {
   "cell_type": "code",
   "execution_count": null,
   "metadata": {},
   "outputs": [],
   "source": [
    "# Hatten Frauen einfach auch mehr Chancen, besser platziert zu sein. Waren sie insgesamt auf den schlechteren, relativen Listenplätzen?\n",
    "#Funktion zur Berechnung der Listenlänge\n",
    "def get_numberonlist(row):\n",
    "    return len(df[(df['listen_code']==row['listen_code']) & (df['Wahlkreis']==row['Wahlkreis'])])"
   ]
  },
  {
   "cell_type": "code",
   "execution_count": null,
   "metadata": {},
   "outputs": [],
   "source": [
    "df['listenlaenge'] = df.apply(get_numberonlist, axis=1)"
   ]
  },
  {
   "cell_type": "code",
   "execution_count": null,
   "metadata": {},
   "outputs": [],
   "source": [
    "#relative Listenposition berechnen\n",
    "df['relativ'] = df['listen_platz']/df['listenlaenge']"
   ]
  },
  {
   "cell_type": "code",
   "execution_count": null,
   "metadata": {},
   "outputs": [],
   "source": [
    "df.to_csv('all.csv', index=False)"
   ]
  },
  {
   "cell_type": "code",
   "execution_count": null,
   "metadata": {},
   "outputs": [],
   "source": [
    "#Es stellt sich ein Wert zwischen Wert zwischen etwas über 0 und 1 ein. \n",
    "#Männer und Frauen haben ählniche relative Listenplätze\n",
    "df.groupby('G').relativ.sum()/df.groupby('G').relativ.count()"
   ]
  },
  {
   "cell_type": "code",
   "execution_count": null,
   "metadata": {},
   "outputs": [],
   "source": [
    "#noch Kontrolle mit Median\n",
    "df[df['G']=='W'].relativ.median()"
   ]
  },
  {
   "cell_type": "code",
   "execution_count": null,
   "metadata": {},
   "outputs": [],
   "source": [
    "df[df['G']=='M'].relativ.median()"
   ]
  },
  {
   "cell_type": "code",
   "execution_count": null,
   "metadata": {},
   "outputs": [],
   "source": [
    "#Grafische Analyse der Verteilung\n",
    "df[df['G']=='W'].relativ.hist()"
   ]
  },
  {
   "cell_type": "code",
   "execution_count": null,
   "metadata": {},
   "outputs": [],
   "source": [
    "df[df['G']=='M'].relativ.hist()"
   ]
  },
  {
   "cell_type": "code",
   "execution_count": null,
   "metadata": {},
   "outputs": [],
   "source": [
    "#Subset für neues, gewähltes Parlament\n",
    "gewaehlt = df[(df['gewaehlt']==1)]\n",
    "len(gewaehlt)"
   ]
  },
  {
   "cell_type": "code",
   "execution_count": null,
   "metadata": {},
   "outputs": [],
   "source": [
    "#Verteilung der Frauenquote nach Fraktion\n",
    "gewaehlt.groupby('listen_code').G.value_counts('normalize').unstack()"
   ]
  },
  {
   "cell_type": "code",
   "execution_count": null,
   "metadata": {},
   "outputs": [],
   "source": [
    "gewaehlt.groupby('listen_code').G.value_counts('').unstack()"
   ]
  },
  {
   "cell_type": "code",
   "execution_count": null,
   "metadata": {},
   "outputs": [],
   "source": [
    "#wie schauts mit den neugewaehlten aus\n",
    "neugewaehlt = df[(df['gewaehlt']==1) &(df['bisher']==0) & (df['G']=='W')]\n",
    "neugewaehlt.groupby('listen_code').G.value_counts('normalize').unstack()"
   ]
  },
  {
   "cell_type": "code",
   "execution_count": null,
   "metadata": {},
   "outputs": [],
   "source": [
    "neugewaehlt.groupby('listen_code').G.value_counts('').unstack()"
   ]
  }
 ],
 "metadata": {
  "kernelspec": {
   "display_name": "Python 3",
   "language": "python",
   "name": "python3"
  },
  "language_info": {
   "codemirror_mode": {
    "name": "ipython",
    "version": 3
   },
   "file_extension": ".py",
   "mimetype": "text/x-python",
   "name": "python",
   "nbconvert_exporter": "python",
   "pygments_lexer": "ipython3",
   "version": "3.6.5"
  }
 },
 "nbformat": 4,
 "nbformat_minor": 2
}
